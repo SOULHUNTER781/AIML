{
 "cells": [
  {
   "cell_type": "code",
   "execution_count": 1,
   "metadata": {},
   "outputs": [
    {
     "name": "stdout",
     "output_type": "stream",
     "text": [
      "Split 768 rows into train=514 and test=254 rows\n",
      "The Accuracy is 77.16535433070865\n"
     ]
    }
   ],
   "source": [
    "import math\n",
    "import pandas as pd\n",
    "import numpy as np\n",
    "\n",
    "df_data=pd.read_csv('pima-indians-diabetes.data.csv',header=None).astype('float')\n",
    "size=int(len(df_data)*0.67)\n",
    "train_df=df_data.iloc[:size].copy()\n",
    "test_df=df_data.iloc[size:].copy()\n",
    "\n",
    "def summarizeByClass(train_df):\n",
    "    summary={}\n",
    "    for key,value in train_df.groupby(train_df.columns[-1]):\n",
    "        summary[key]=summarize(value)\n",
    "    return summary\n",
    "\n",
    "def summarize(data):\n",
    "    summaries=[(mean(data[attribute]),stdev(data[attribute])) for attribute in data.columns[0:-1]]\n",
    "    return summaries\n",
    "\n",
    "def mean(numbers):\n",
    "    return sum(numbers)/float(len(numbers))\n",
    "\n",
    "def stdev(numbers):\n",
    "    avg=mean(numbers)\n",
    "    variance=sum([pow(x-avg,2) for x in numbers])/float(len(numbers)-1)\n",
    "    return math.sqrt(variance)\n",
    "\n",
    "def getPrediction(summaries,testset):\n",
    "    predictions=[]\n",
    "    for i in range(len(testset)):\n",
    "        result=predict(summaries,testset.iloc[i:i+1])\n",
    "        predictions.append(result)\n",
    "    return predictions\n",
    "\n",
    "def predict(summaries,inputVector):\n",
    "    probabilities=calcbyval(summaries,inputVector)\n",
    "    bestVal,bestprob=None,-1\n",
    "    for classValue,probability in probabilities.items():\n",
    "        if bestVal is None or probability > bestprob:\n",
    "            bestprob=probability\n",
    "            bestVal=classValue\n",
    "    return bestVal\n",
    "\n",
    "def calcbyval(summaries,inputVector):\n",
    "    probabilities={}\n",
    "    for classValue,classSummaries in summaries.items():\n",
    "        probabilities[classValue]=1\n",
    "        for i in range(len(classSummaries)):\n",
    "            mean,stdev=classSummaries[i]\n",
    "            x=inputVector[i]\n",
    "            probabilities[classValue]*=calcprob(x,mean,stdev)\n",
    "    return probabilities\n",
    "\n",
    "def calcprob(x,mean,stdev):\n",
    "    exponent=math.exp(-(math.pow(x-mean,2)/(2*math.pow(stdev,2))))\n",
    "    return (1/(math.sqrt(2*math.pi)*stdev))*exponent\n",
    "\n",
    "def getAccuracy(testset,predictions):\n",
    "    correct=1\n",
    "    for i in range(len(testset)):\n",
    "        if testset.iloc[i:i+1][8].values==predictions[i]:\n",
    "            correct+=1\n",
    "    return (correct/float(len(testset)))*100.0\n",
    "\n",
    "summaries=summarizeByClass(train_df)\n",
    "predictions=getPrediction(summaries,test_df)\n",
    "accuracy=getAccuracy(test_df,predictions)\n",
    "print('Split {0} rows into train={1} and test={2} rows'.format(len(df_data), len(train_df), len(test_df)))\n",
    "print(\"The Accuracy is \"+str(accuracy))"
   ]
  },
  {
   "cell_type": "code",
   "execution_count": null,
   "metadata": {},
   "outputs": [],
   "source": []
  },
  {
   "cell_type": "code",
   "execution_count": null,
   "metadata": {},
   "outputs": [],
   "source": []
  }
 ],
 "metadata": {
  "kernelspec": {
   "display_name": "Python 3 (ipykernel)",
   "language": "python",
   "name": "python3"
  },
  "language_info": {
   "codemirror_mode": {
    "name": "ipython",
    "version": 3
   },
   "file_extension": ".py",
   "mimetype": "text/x-python",
   "name": "python",
   "nbconvert_exporter": "python",
   "pygments_lexer": "ipython3",
   "version": "3.8.10"
  }
 },
 "nbformat": 4,
 "nbformat_minor": 4
}
